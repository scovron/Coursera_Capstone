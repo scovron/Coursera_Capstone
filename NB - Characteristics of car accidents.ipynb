{
    "cells": [
        {
            "cell_type": "markdown",
            "metadata": {
                "collapsed": true
            },
            "source": "# Coursera Capstone - Characteristics of car accidents and their impact on police, ambulance and fire brigades\n\n## Table of contents:\n\n1. Introduction Section\n    - Scenario and background\n    - Problem to be solved\n    - Recipients of the report\n2. Data Section\n    - Data required to resolve the problem and how the data will be used to solve the problem\n3. Methodology Section\n4. Result Section\n5. Discussion Section\n6. Conslusion Section\n\n\n## 1. Introduction Section\n\n### Scenario and background\nObserving the statistics of car accidents in Seatlle, I came to the conclusion that it is possible to prepare services such as the police, fire brigade or ambulance in advance for serious cases of road accidents involving a large number of people and which may result from weather conditions in specific places of Seattle.\n\n### Problem to be solved\nThe challenge to be solved is to properly prepare and inform the police, fire brigade and ambulance in advance about the possibility of very serious road accidents depending on the prevailing road conditions in specific places. Therefore, I want to find accidents with the following assumptions:\n- Severity is a minimum of 2\n- More than 4 are injured, including pedestrians and cyclists\n- Depending on the weather condition and road condition\n- Depending on the time of day\n- Cases resulting from the use of alcohol and other intoxicants are rejected as not resulting directly from weather factors.\n\n### Recipients of the report\nI believe that this is a suitable project for a major city security center in Europe, the United States or Asia, as the approach and methodology used here will help prepare services such as the police, fire brigade or hospitals in advance for emergencies (e.g. severe road accidents) from weather conditions.\n\n## 2. Data Section\n\n### Data required to resolve the problem and how the data will be used to solve the problem\nThe data will be used as follows: First, I sort out the data for which the UNDERINFL parameter (meaning under the influence of intoxicants) is empty or equal to 1 or Y. Thanks to this, I will separate the cases not directly related to the weather conditions, which is based on my assumptions. Then I will sort the data by the SEVERITYCODE attribute for which the minimum value is 2 which will give me only the cases with injuries.\nIn the next step, I will sort by the number of people participating in the event (PERSONCOUNT) for a minimum value of 4 people and then group them depending on weather conditions (WEATHER), road condition (ROADCOND) and time of day (LIGHTCOND). Finally, I will use the location data (X and Y) to plot the most frequent crash sites on the Seatlle map so the services will know exactly the accidents can happen on particular weather and day conditions.\n\n## 3. Methodology\nThe paragraph below describes the individual components of the report in which data is collected, prepared and processed, in accordance with the adopted strategy."
        },
        {
            "cell_type": "markdown",
            "metadata": {},
            "source": "### Data extraction and cleaning"
        },
        {
            "cell_type": "code",
            "execution_count": 25,
            "metadata": {},
            "outputs": [
                {
                    "name": "stdout",
                    "output_type": "stream",
                    "text": "Requirement already satisfied: folium==0.5.0 in /opt/conda/envs/Python36/lib/python3.6/site-packages (0.5.0)\nRequirement already satisfied: six in /opt/conda/envs/Python36/lib/python3.6/site-packages (from folium==0.5.0) (1.12.0)\nRequirement already satisfied: branca in /opt/conda/envs/Python36/lib/python3.6/site-packages (from folium==0.5.0) (0.4.1)\nRequirement already satisfied: jinja2 in /opt/conda/envs/Python36/lib/python3.6/site-packages (from folium==0.5.0) (2.10)\nRequirement already satisfied: requests in /opt/conda/envs/Python36/lib/python3.6/site-packages (from folium==0.5.0) (2.21.0)\nRequirement already satisfied: MarkupSafe>=0.23 in /opt/conda/envs/Python36/lib/python3.6/site-packages (from jinja2->folium==0.5.0) (1.1.0)\nRequirement already satisfied: urllib3<1.25,>=1.21.1 in /opt/conda/envs/Python36/lib/python3.6/site-packages (from requests->folium==0.5.0) (1.24.1)\nRequirement already satisfied: idna<2.9,>=2.5 in /opt/conda/envs/Python36/lib/python3.6/site-packages (from requests->folium==0.5.0) (2.8)\nRequirement already satisfied: chardet<3.1.0,>=3.0.2 in /opt/conda/envs/Python36/lib/python3.6/site-packages (from requests->folium==0.5.0) (3.0.4)\nRequirement already satisfied: certifi>=2017.4.17 in /opt/conda/envs/Python36/lib/python3.6/site-packages (from requests->folium==0.5.0) (2020.6.20)\nLib were Imported\n"
                }
            ],
            "source": "import pandas as pd\nimport requests\nimport numpy as np\nimport warnings\nwarnings.filterwarnings(\"ignore\")\n\nimport matplotlib.pyplot as plt\n%matplotlib inline\n\nimport seaborn as sns\n\npd.set_option('display.max_columns', None)\npd.set_option('display.max_rows', None)\n\n!pip install folium==0.5.0\nimport folium\n\nimport json\nimport requests\nfrom pandas.io.json import json_normalize\n\nprint('Lib were Imported')"
        },
        {
            "cell_type": "code",
            "execution_count": 2,
            "metadata": {},
            "outputs": [
                {
                    "name": "stdout",
                    "output_type": "stream",
                    "text": "--2020-09-18 06:44:45--  https://s3.us.cloud-object-storage.appdomain.cloud/cf-courses-data/CognitiveClass/DP0701EN/version-2/Data-Collisions.csv\nResolving s3.us.cloud-object-storage.appdomain.cloud (s3.us.cloud-object-storage.appdomain.cloud)... 67.228.254.196\nConnecting to s3.us.cloud-object-storage.appdomain.cloud (s3.us.cloud-object-storage.appdomain.cloud)|67.228.254.196|:443... connected.\nHTTP request sent, awaiting response... 200 OK\nLength: 73917638 (70M) [text/csv]\nSaving to: \u2018Data-Collisions.csv\u2019\n\n100%[======================================>] 73,917,638  34.8MB/s   in 2.0s   \n\n2020-09-18 06:44:47 (34.8 MB/s) - \u2018Data-Collisions.csv\u2019 saved [73917638/73917638]\n\n"
                }
            ],
            "source": "!wget -O Data-Collisions.csv https://s3.us.cloud-object-storage.appdomain.cloud/cf-courses-data/CognitiveClass/DP0701EN/version-2/Data-Collisions.csv"
        },
        {
            "cell_type": "code",
            "execution_count": 3,
            "metadata": {},
            "outputs": [],
            "source": "df_raw = pd.read_csv('Data-Collisions.csv')"
        },
        {
            "cell_type": "code",
            "execution_count": 4,
            "metadata": {},
            "outputs": [
                {
                    "data": {
                        "text/plain": "194673"
                    },
                    "execution_count": 4,
                    "metadata": {},
                    "output_type": "execute_result"
                }
            ],
            "source": "len(df_raw)"
        },
        {
            "cell_type": "markdown",
            "metadata": {},
            "source": "The file contains the information about 194673 collisions which happens at Seatlle. Now we will drop the columns not relevant to our analysis."
        },
        {
            "cell_type": "code",
            "execution_count": 5,
            "metadata": {},
            "outputs": [],
            "source": "df_raw = df_raw.dropna(subset = ['UNDERINFL'])\ndf_raw = df_raw.dropna(subset = ['X'])\ndf_raw = df_raw.dropna(subset = ['Y'])"
        },
        {
            "cell_type": "code",
            "execution_count": 6,
            "metadata": {},
            "outputs": [],
            "source": "df_acc = df_raw[['SEVERITYCODE', 'PERSONCOUNT', 'PEDCOUNT', 'PEDCYLCOUNT', 'VEHCOUNT', 'INCDTTM', 'UNDERINFL', 'WEATHER', 'ROADCOND', 'LIGHTCOND', 'X', 'Y']]"
        },
        {
            "cell_type": "markdown",
            "metadata": {},
            "source": "Now let's check the value types for the column UNDERINFL. Then we will need to normalize the values for this column before the grouping."
        },
        {
            "cell_type": "code",
            "execution_count": 7,
            "metadata": {},
            "outputs": [
                {
                    "data": {
                        "text/plain": "N    0.528916\n0    0.422975\nY    0.027096\n1    0.021013\nName: UNDERINFL, dtype: float64"
                    },
                    "execution_count": 7,
                    "metadata": {},
                    "output_type": "execute_result"
                }
            ],
            "source": "df_acc['UNDERINFL'].value_counts(normalize=True)"
        },
        {
            "cell_type": "code",
            "execution_count": 8,
            "metadata": {},
            "outputs": [
                {
                    "data": {
                        "text/plain": "0    0.951891\n1    0.048109\nName: UNDERINFL, dtype: float64"
                    },
                    "execution_count": 8,
                    "metadata": {},
                    "output_type": "execute_result"
                }
            ],
            "source": "df_acc['UNDERINFL'].replace(to_replace = ['1','0'], value = [1,0], inplace = True)\ndf_acc['UNDERINFL'].replace(to_replace = ['Y','N'], value = [1,0], inplace = True)\ndf_acc['UNDERINFL'].value_counts(normalize=True)"
        },
        {
            "cell_type": "markdown",
            "metadata": {},
            "source": "Now let's normalize the LIGHTCOND column. I assume two states for it - Daylight and Dark."
        },
        {
            "cell_type": "code",
            "execution_count": 9,
            "metadata": {},
            "outputs": [
                {
                    "data": {
                        "text/plain": "Daylight                    0.616198\nDark - Street Lights On     0.256685\nUnknown                     0.067445\nDusk                        0.031330\nDawn                        0.013140\nDark - No Street Lights     0.007872\nDark - Street Lights Off    0.006250\nOther                       0.001020\nDark - Unknown Lighting     0.000060\nName: DAYLIGHT, dtype: float64"
                    },
                    "execution_count": 9,
                    "metadata": {},
                    "output_type": "execute_result"
                }
            ],
            "source": "df_acc['DAYLIGHT'] = df_acc['LIGHTCOND']\ndf_acc['DAYLIGHT'].value_counts(normalize=True)"
        },
        {
            "cell_type": "code",
            "execution_count": 10,
            "metadata": {},
            "outputs": [],
            "source": "def was_daylight(condition):\n    if condition != 'Daylight':\n        return 0\n    else:\n        return 1\n\ndf_acc['DAYLIGHT'] = df_acc['DAYLIGHT'].apply(was_daylight)"
        },
        {
            "cell_type": "code",
            "execution_count": 11,
            "metadata": {},
            "outputs": [
                {
                    "data": {
                        "text/plain": "1    0.61528\n0    0.38472\nName: DAYLIGHT, dtype: float64"
                    },
                    "execution_count": 11,
                    "metadata": {},
                    "output_type": "execute_result"
                }
            ],
            "source": "df_acc['DAYLIGHT'].value_counts(normalize=True)"
        },
        {
            "cell_type": "markdown",
            "metadata": {},
            "source": "Next, let's do the same trick with WEATHER and ROADCOND columns. I would like to have them divided as good weather/ bad weather and good road condition/ bad road condition. I assume the dry / clear condition is the possitive and rest are negative values."
        },
        {
            "cell_type": "code",
            "execution_count": 12,
            "metadata": {},
            "outputs": [
                {
                    "data": {
                        "text/plain": "Clear                       0.590839\nRaining                     0.173604\nOvercast                    0.147147\nUnknown                     0.075336\nSnowing                     0.004848\nOther                       0.004192\nFog/Smog/Smoke              0.002999\nSleet/Hail/Freezing Rain    0.000607\nBlowing Sand/Dirt           0.000271\nSevere Crosswind            0.000130\nPartly Cloudy               0.000027\nName: GOOD_WEATHER, dtype: float64"
                    },
                    "execution_count": 12,
                    "metadata": {},
                    "output_type": "execute_result"
                }
            ],
            "source": "df_acc['GOOD_WEATHER'] = df_acc['WEATHER']\ndf_acc['GOOD_WEATHER'].value_counts(normalize=True)"
        },
        {
            "cell_type": "code",
            "execution_count": 13,
            "metadata": {},
            "outputs": [],
            "source": "def was_good_weather(condition):\n    if condition != 'Clear':\n        return 0\n    else:\n        return 1\n\ndf_acc['GOOD_WEATHER'] = df_acc['GOOD_WEATHER'].apply(was_good_weather)"
        },
        {
            "cell_type": "code",
            "execution_count": 14,
            "metadata": {},
            "outputs": [
                {
                    "data": {
                        "text/plain": "1    0.590237\n0    0.409763\nName: GOOD_WEATHER, dtype: float64"
                    },
                    "execution_count": 14,
                    "metadata": {},
                    "output_type": "execute_result"
                }
            ],
            "source": "df_acc['GOOD_WEATHER'].value_counts(normalize=True)"
        },
        {
            "cell_type": "code",
            "execution_count": 15,
            "metadata": {},
            "outputs": [
                {
                    "data": {
                        "text/plain": "Dry               0.661727\nWet               0.249695\nUnknown           0.075016\nIce               0.006380\nSnow/Slush        0.005361\nOther             0.000634\nStanding Water    0.000553\nSand/Mud/Dirt     0.000347\nOil               0.000287\nName: GOOD_ROAD, dtype: float64"
                    },
                    "execution_count": 15,
                    "metadata": {},
                    "output_type": "execute_result"
                }
            ],
            "source": "df_acc['GOOD_ROAD'] = df_acc['ROADCOND']\ndf_acc['GOOD_ROAD'].value_counts(normalize=True)"
        },
        {
            "cell_type": "code",
            "execution_count": 16,
            "metadata": {},
            "outputs": [],
            "source": "def was_good_road(condition):\n    if condition != 'Dry':\n        return 0\n    else:\n        return 1\n\ndf_acc['GOOD_ROAD'] = df_acc['GOOD_ROAD'].apply(was_good_road)"
        },
        {
            "cell_type": "code",
            "execution_count": 17,
            "metadata": {},
            "outputs": [
                {
                    "data": {
                        "text/plain": "1    0.661293\n0    0.338707\nName: GOOD_ROAD, dtype: float64"
                    },
                    "execution_count": 17,
                    "metadata": {},
                    "output_type": "execute_result"
                }
            ],
            "source": "df_acc['GOOD_ROAD'].value_counts(normalize=True)"
        },
        {
            "cell_type": "code",
            "execution_count": 18,
            "metadata": {},
            "outputs": [],
            "source": "df_acc = df_acc.drop(columns=['WEATHER','ROADCOND','LIGHTCOND'])"
        },
        {
            "cell_type": "code",
            "execution_count": 19,
            "metadata": {},
            "outputs": [],
            "source": "df_acc = df_acc[['SEVERITYCODE','UNDERINFL','DAYLIGHT','GOOD_WEATHER','GOOD_ROAD','PERSONCOUNT', 'PEDCOUNT', 'PEDCYLCOUNT', 'VEHCOUNT', 'INCDTTM', 'X', 'Y']]"
        },
        {
            "cell_type": "code",
            "execution_count": 20,
            "metadata": {},
            "outputs": [
                {
                    "data": {
                        "text/plain": "184602"
                    },
                    "execution_count": 20,
                    "metadata": {},
                    "output_type": "execute_result"
                }
            ],
            "source": "len(df_acc)"
        },
        {
            "cell_type": "code",
            "execution_count": 21,
            "metadata": {
                "scrolled": true
            },
            "outputs": [],
            "source": "# Dropping the accidents with severity smaller than 2\ndf_acc = df_acc.drop(df_acc[df_acc.SEVERITYCODE < 2].index)"
        },
        {
            "cell_type": "code",
            "execution_count": 22,
            "metadata": {},
            "outputs": [],
            "source": "# Dropping the accidents with casaulties less than 4\ndf_acc = df_acc.drop(df_acc[df_acc.PERSONCOUNT < 4].index)\n\n# Filtering for the night accidents\ndf_night = df_acc.drop(df_acc[df_acc.DAYLIGHT < 1].index)"
        },
        {
            "cell_type": "code",
            "execution_count": 23,
            "metadata": {
                "scrolled": true
            },
            "outputs": [
                {
                    "data": {
                        "text/plain": "7643"
                    },
                    "execution_count": 23,
                    "metadata": {},
                    "output_type": "execute_result"
                }
            ],
            "source": "len(df_night)"
        },
        {
            "cell_type": "code",
            "execution_count": 33,
            "metadata": {},
            "outputs": [
                {
                    "data": {
                        "text/plain": "5313"
                    },
                    "execution_count": 33,
                    "metadata": {},
                    "output_type": "execute_result"
                }
            ],
            "source": "# Filtering for the bad weather accidents\ndf_bad_weather = df_night.drop(df_night[df_night.GOOD_WEATHER < 1].index)\nlen(df_bad_weather)"
        },
        {
            "cell_type": "markdown",
            "metadata": {},
            "source": "## 4. Result section\nLet's consolidate all the required informations to make final suggestions to Town's Security Service"
        },
        {
            "cell_type": "code",
            "execution_count": 37,
            "metadata": {},
            "outputs": [
                {
                    "name": "stdout",
                    "output_type": "stream",
                    "text": "Your credentails:\nCLIENT_ID: RT50UFZKHZ2HT3UKHOEJVBEF4RV2ILAWPXCNXGZJGBZMJLOW\nCLIENT_SECRET: I5W2A1NSD4HZJXJ52NRHNEUMBDGO0YVYTAWB20DKLOYQRCQ4\n"
                }
            ],
            "source": "# The code was removed by Watson Studio for sharing."
        },
        {
            "cell_type": "code",
            "execution_count": 43,
            "metadata": {},
            "outputs": [],
            "source": "radius = 7000 \nLIMIT = 1\n\n# The final number of Emergency Stations has been limited to 100 due to the limitations in calling the Foursquare API\ndef getNearbyEmergencies(radius=2500, searchType='emergency'):\n    emgs_list=[]\n    tst_loop_counter = 0;\n    for lat, lng in zip(df_bad_weather['Y'], df_bad_weather['X']):\n        if tst_loop_counter >= 100:\n            break\n        url = 'https://api.foursquare.com/v2/venues/explore?&client_id={}&client_secret={}&v={}&ll={},{}&query={}&radius={}&limit={}'.format(\n            CLIENT_ID, \n            CLIENT_SECRET, \n            VERSION, \n            lat, \n            lng,\n            searchType,\n            radius, \n            LIMIT)\n            \n        # making GET request\n        emg_results = requests.get(url).json()[\"response\"]['groups'][0]['items']\n        \n        # return only relevant information for each nearby emergency\n        emgs_list.append([(\n            lat, \n            lng, \n            e['venue']['name'], \n            e['venue']['location']['lat'], \n            e['venue']['location']['lng']) for e in emg_results])\n        tst_loop_counter = tst_loop_counter + 1\n\n    nearby_emg = pd.DataFrame([item for emg_list in emgs_list for item in emg_list])\n    nearby_emg.columns = ['Accident Latitude', \n                  'Accident Longitude', \n                  'Emergency Name', \n                  'Emergency Latitude', \n                  'Emergency Longitude']\n    \n    return(nearby_emg)"
        },
        {
            "cell_type": "code",
            "execution_count": 44,
            "metadata": {},
            "outputs": [
                {
                    "data": {
                        "text/html": "<div>\n<style scoped>\n    .dataframe tbody tr th:only-of-type {\n        vertical-align: middle;\n    }\n\n    .dataframe tbody tr th {\n        vertical-align: top;\n    }\n\n    .dataframe thead th {\n        text-align: right;\n    }\n</style>\n<table border=\"1\" class=\"dataframe\">\n  <thead>\n    <tr style=\"text-align: right;\">\n      <th></th>\n      <th>Accident Latitude</th>\n      <th>Accident Longitude</th>\n      <th>Emergency Name</th>\n      <th>Emergency Latitude</th>\n      <th>Emergency Longitude</th>\n    </tr>\n  </thead>\n  <tbody>\n    <tr>\n      <th>0</th>\n      <td>47.571420</td>\n      <td>-122.328270</td>\n      <td>VA Medical Center Emergency Department</td>\n      <td>47.563790</td>\n      <td>-122.310071</td>\n    </tr>\n    <tr>\n      <th>1</th>\n      <td>47.708535</td>\n      <td>-122.313786</td>\n      <td>Twans Emergency Room</td>\n      <td>47.714547</td>\n      <td>-122.311730</td>\n    </tr>\n    <tr>\n      <th>2</th>\n      <td>47.566405</td>\n      <td>-122.306705</td>\n      <td>VA Medical Center Emergency Department</td>\n      <td>47.563790</td>\n      <td>-122.310071</td>\n    </tr>\n    <tr>\n      <th>3</th>\n      <td>47.620903</td>\n      <td>-122.346296</td>\n      <td>ZOOM+Care</td>\n      <td>47.614010</td>\n      <td>-122.346085</td>\n    </tr>\n    <tr>\n      <th>4</th>\n      <td>47.708569</td>\n      <td>-122.319209</td>\n      <td>Twans Emergency Room</td>\n      <td>47.714547</td>\n      <td>-122.311730</td>\n    </tr>\n  </tbody>\n</table>\n</div>",
                        "text/plain": "   Accident Latitude  Accident Longitude  \\\n0          47.571420         -122.328270   \n1          47.708535         -122.313786   \n2          47.566405         -122.306705   \n3          47.620903         -122.346296   \n4          47.708569         -122.319209   \n\n                           Emergency Name  Emergency Latitude  \\\n0  VA Medical Center Emergency Department           47.563790   \n1                    Twans Emergency Room           47.714547   \n2  VA Medical Center Emergency Department           47.563790   \n3                               ZOOM+Care           47.614010   \n4                    Twans Emergency Room           47.714547   \n\n   Emergency Longitude  \n0          -122.310071  \n1          -122.311730  \n2          -122.310071  \n3          -122.346085  \n4          -122.311730  "
                    },
                    "execution_count": 44,
                    "metadata": {},
                    "output_type": "execute_result"
                }
            ],
            "source": "nearby_em = getNearbyEmergencies()\nnearby_em.head()"
        },
        {
            "cell_type": "code",
            "execution_count": 47,
            "metadata": {},
            "outputs": [
                {
                    "data": {
                        "text/html": "<div>\n<style scoped>\n    .dataframe tbody tr th:only-of-type {\n        vertical-align: middle;\n    }\n\n    .dataframe tbody tr th {\n        vertical-align: top;\n    }\n\n    .dataframe thead th {\n        text-align: right;\n    }\n</style>\n<table border=\"1\" class=\"dataframe\">\n  <thead>\n    <tr style=\"text-align: right;\">\n      <th></th>\n      <th>Accident Latitude</th>\n      <th>Accident Longitude</th>\n      <th>Emergency Name</th>\n      <th>Emergency Latitude</th>\n      <th>Emergency Longitude</th>\n    </tr>\n  </thead>\n  <tbody>\n    <tr>\n      <th>0</th>\n      <td>47.571420</td>\n      <td>-122.328270</td>\n      <td>VA Medical Center Emergency Department</td>\n      <td>47.563790</td>\n      <td>-122.310071</td>\n    </tr>\n    <tr>\n      <th>1</th>\n      <td>47.708535</td>\n      <td>-122.313786</td>\n      <td>Twans Emergency Room</td>\n      <td>47.714547</td>\n      <td>-122.311730</td>\n    </tr>\n    <tr>\n      <th>2</th>\n      <td>47.566405</td>\n      <td>-122.306705</td>\n      <td>VA Medical Center Emergency Department</td>\n      <td>47.563790</td>\n      <td>-122.310071</td>\n    </tr>\n    <tr>\n      <th>3</th>\n      <td>47.620903</td>\n      <td>-122.346296</td>\n      <td>ZOOM+Care</td>\n      <td>47.614010</td>\n      <td>-122.346085</td>\n    </tr>\n    <tr>\n      <th>4</th>\n      <td>47.708569</td>\n      <td>-122.319209</td>\n      <td>Twans Emergency Room</td>\n      <td>47.714547</td>\n      <td>-122.311730</td>\n    </tr>\n    <tr>\n      <th>5</th>\n      <td>47.670539</td>\n      <td>-122.378883</td>\n      <td>Swedish Ballard ER</td>\n      <td>47.668006</td>\n      <td>-122.380696</td>\n    </tr>\n    <tr>\n      <th>6</th>\n      <td>47.665035</td>\n      <td>-122.338087</td>\n      <td>ZOOM+Care</td>\n      <td>47.662485</td>\n      <td>-122.312791</td>\n    </tr>\n    <tr>\n      <th>7</th>\n      <td>47.580853</td>\n      <td>-122.329056</td>\n      <td>VA Medical Center Emergency Department</td>\n      <td>47.563790</td>\n      <td>-122.310071</td>\n    </tr>\n    <tr>\n      <th>8</th>\n      <td>47.529358</td>\n      <td>-122.334256</td>\n      <td>Neighborcare Health Georgetown Dental Clinic</td>\n      <td>47.547542</td>\n      <td>-122.315861</td>\n    </tr>\n    <tr>\n      <th>9</th>\n      <td>47.625593</td>\n      <td>-122.367024</td>\n      <td>Bayside Family Physicians</td>\n      <td>47.629135</td>\n      <td>-122.341904</td>\n    </tr>\n    <tr>\n      <th>10</th>\n      <td>47.602306</td>\n      <td>-122.332519</td>\n      <td>Harborview Medical Center</td>\n      <td>47.604167</td>\n      <td>-122.324138</td>\n    </tr>\n    <tr>\n      <th>11</th>\n      <td>47.539646</td>\n      <td>-122.335084</td>\n      <td>Neighborcare Health Georgetown Dental Clinic</td>\n      <td>47.547542</td>\n      <td>-122.315861</td>\n    </tr>\n    <tr>\n      <th>12</th>\n      <td>47.625838</td>\n      <td>-122.343624</td>\n      <td>Bayside Family Physicians</td>\n      <td>47.629135</td>\n      <td>-122.341904</td>\n    </tr>\n    <tr>\n      <th>13</th>\n      <td>47.682178</td>\n      <td>-122.355302</td>\n      <td>Swedish Ballard ER</td>\n      <td>47.668006</td>\n      <td>-122.380696</td>\n    </tr>\n    <tr>\n      <th>14</th>\n      <td>47.561759</td>\n      <td>-122.287546</td>\n      <td>VA Medical Center Emergency Department</td>\n      <td>47.563790</td>\n      <td>-122.310071</td>\n    </tr>\n    <tr>\n      <th>15</th>\n      <td>47.704996</td>\n      <td>-122.328550</td>\n      <td>\u062e\u0644\u0627\u064a\u0627 \u0645\u062e</td>\n      <td>47.705383</td>\n      <td>-122.333102</td>\n    </tr>\n    <tr>\n      <th>16</th>\n      <td>47.558252</td>\n      <td>-122.285243</td>\n      <td>VA Medical Center Emergency Department</td>\n      <td>47.563790</td>\n      <td>-122.310071</td>\n    </tr>\n    <tr>\n      <th>17</th>\n      <td>47.719468</td>\n      <td>-122.320863</td>\n      <td>Twans Emergency Room</td>\n      <td>47.714547</td>\n      <td>-122.311730</td>\n    </tr>\n    <tr>\n      <th>18</th>\n      <td>47.683047</td>\n      <td>-122.307792</td>\n      <td>Care Clinic at Bartell Drugs</td>\n      <td>47.663863</td>\n      <td>-122.296602</td>\n    </tr>\n    <tr>\n      <th>19</th>\n      <td>47.669801</td>\n      <td>-122.370757</td>\n      <td>Swedish Ballard ER</td>\n      <td>47.668006</td>\n      <td>-122.380696</td>\n    </tr>\n    <tr>\n      <th>20</th>\n      <td>47.683246</td>\n      <td>-122.373128</td>\n      <td>Swedish Ballard ER</td>\n      <td>47.668006</td>\n      <td>-122.380696</td>\n    </tr>\n    <tr>\n      <th>21</th>\n      <td>47.694547</td>\n      <td>-122.344569</td>\n      <td>\u0633\u0631\u0627\u064a\u0627 \u0627\u0644\u0645\u062c\u0627\u0646\u064a\u0646</td>\n      <td>47.705386</td>\n      <td>-122.333176</td>\n    </tr>\n    <tr>\n      <th>22</th>\n      <td>47.602188</td>\n      <td>-122.316782</td>\n      <td>Mental Health and Addiction Services at Harbor...</td>\n      <td>47.605644</td>\n      <td>-122.321014</td>\n    </tr>\n    <tr>\n      <th>23</th>\n      <td>47.672184</td>\n      <td>-122.337620</td>\n      <td>ZOOM+Care</td>\n      <td>47.662485</td>\n      <td>-122.312791</td>\n    </tr>\n    <tr>\n      <th>24</th>\n      <td>47.571421</td>\n      <td>-122.329077</td>\n      <td>VA Medical Center Emergency Department</td>\n      <td>47.563790</td>\n      <td>-122.310071</td>\n    </tr>\n    <tr>\n      <th>25</th>\n      <td>47.605159</td>\n      <td>-122.335129</td>\n      <td>Harborview Medical Center</td>\n      <td>47.604167</td>\n      <td>-122.324138</td>\n    </tr>\n    <tr>\n      <th>26</th>\n      <td>47.609316</td>\n      <td>-122.340467</td>\n      <td>ZOOM+Care</td>\n      <td>47.614010</td>\n      <td>-122.346085</td>\n    </tr>\n    <tr>\n      <th>27</th>\n      <td>47.719296</td>\n      <td>-122.298446</td>\n      <td>Twans Emergency Room</td>\n      <td>47.714547</td>\n      <td>-122.311730</td>\n    </tr>\n    <tr>\n      <th>28</th>\n      <td>47.579809</td>\n      <td>-122.329056</td>\n      <td>VA Medical Center Emergency Department</td>\n      <td>47.563790</td>\n      <td>-122.310071</td>\n    </tr>\n    <tr>\n      <th>29</th>\n      <td>47.666651</td>\n      <td>-122.301607</td>\n      <td>Care Clinic at Bartell Drugs</td>\n      <td>47.663863</td>\n      <td>-122.296602</td>\n    </tr>\n    <tr>\n      <th>30</th>\n      <td>47.618550</td>\n      <td>-122.342402</td>\n      <td>ZOOM+Care</td>\n      <td>47.614010</td>\n      <td>-122.346085</td>\n    </tr>\n    <tr>\n      <th>31</th>\n      <td>47.622913</td>\n      <td>-122.363623</td>\n      <td>ZOOM+Care</td>\n      <td>47.614010</td>\n      <td>-122.346085</td>\n    </tr>\n    <tr>\n      <th>32</th>\n      <td>47.564720</td>\n      <td>-122.386772</td>\n      <td>Jahyun Koo, DDS</td>\n      <td>47.553189</td>\n      <td>-122.387503</td>\n    </tr>\n    <tr>\n      <th>33</th>\n      <td>47.624544</td>\n      <td>-122.339741</td>\n      <td>Bayside Family Physicians</td>\n      <td>47.629135</td>\n      <td>-122.341904</td>\n    </tr>\n    <tr>\n      <th>34</th>\n      <td>47.560108</td>\n      <td>-122.286489</td>\n      <td>VA Medical Center Emergency Department</td>\n      <td>47.563790</td>\n      <td>-122.310071</td>\n    </tr>\n    <tr>\n      <th>35</th>\n      <td>47.556591</td>\n      <td>-122.338677</td>\n      <td>VA Medical Center Emergency Department</td>\n      <td>47.563790</td>\n      <td>-122.310071</td>\n    </tr>\n    <tr>\n      <th>36</th>\n      <td>47.621491</td>\n      <td>-122.299118</td>\n      <td>Swedish Medical Center - Cherry Hill Emergency...</td>\n      <td>47.607349</td>\n      <td>-122.311054</td>\n    </tr>\n    <tr>\n      <th>37</th>\n      <td>47.598352</td>\n      <td>-122.325059</td>\n      <td>Harborview Medical Center</td>\n      <td>47.604167</td>\n      <td>-122.324138</td>\n    </tr>\n    <tr>\n      <th>38</th>\n      <td>47.588312</td>\n      <td>-122.298051</td>\n      <td>Swedish Medical Center - Cherry Hill Emergency...</td>\n      <td>47.607349</td>\n      <td>-122.311054</td>\n    </tr>\n    <tr>\n      <th>39</th>\n      <td>47.578347</td>\n      <td>-122.296188</td>\n      <td>VA Medical Center Emergency Department</td>\n      <td>47.563790</td>\n      <td>-122.310071</td>\n    </tr>\n    <tr>\n      <th>40</th>\n      <td>47.705797</td>\n      <td>-122.344706</td>\n      <td>\u0633\u0631\u0627\u064a\u0627 \u0627\u0644\u0645\u062c\u0627\u0646\u064a\u0646</td>\n      <td>47.705386</td>\n      <td>-122.333176</td>\n    </tr>\n    <tr>\n      <th>41</th>\n      <td>47.704372</td>\n      <td>-122.301614</td>\n      <td>Twans Emergency Room</td>\n      <td>47.714547</td>\n      <td>-122.311730</td>\n    </tr>\n    <tr>\n      <th>42</th>\n      <td>47.545625</td>\n      <td>-122.334314</td>\n      <td>Neighborcare Health Georgetown Dental Clinic</td>\n      <td>47.547542</td>\n      <td>-122.315861</td>\n    </tr>\n  </tbody>\n</table>\n</div>",
                        "text/plain": "    Accident Latitude  Accident Longitude  \\\n0           47.571420         -122.328270   \n1           47.708535         -122.313786   \n2           47.566405         -122.306705   \n3           47.620903         -122.346296   \n4           47.708569         -122.319209   \n5           47.670539         -122.378883   \n6           47.665035         -122.338087   \n7           47.580853         -122.329056   \n8           47.529358         -122.334256   \n9           47.625593         -122.367024   \n10          47.602306         -122.332519   \n11          47.539646         -122.335084   \n12          47.625838         -122.343624   \n13          47.682178         -122.355302   \n14          47.561759         -122.287546   \n15          47.704996         -122.328550   \n16          47.558252         -122.285243   \n17          47.719468         -122.320863   \n18          47.683047         -122.307792   \n19          47.669801         -122.370757   \n20          47.683246         -122.373128   \n21          47.694547         -122.344569   \n22          47.602188         -122.316782   \n23          47.672184         -122.337620   \n24          47.571421         -122.329077   \n25          47.605159         -122.335129   \n26          47.609316         -122.340467   \n27          47.719296         -122.298446   \n28          47.579809         -122.329056   \n29          47.666651         -122.301607   \n30          47.618550         -122.342402   \n31          47.622913         -122.363623   \n32          47.564720         -122.386772   \n33          47.624544         -122.339741   \n34          47.560108         -122.286489   \n35          47.556591         -122.338677   \n36          47.621491         -122.299118   \n37          47.598352         -122.325059   \n38          47.588312         -122.298051   \n39          47.578347         -122.296188   \n40          47.705797         -122.344706   \n41          47.704372         -122.301614   \n42          47.545625         -122.334314   \n\n                                       Emergency Name  Emergency Latitude  \\\n0              VA Medical Center Emergency Department           47.563790   \n1                                Twans Emergency Room           47.714547   \n2              VA Medical Center Emergency Department           47.563790   \n3                                           ZOOM+Care           47.614010   \n4                                Twans Emergency Room           47.714547   \n5                                  Swedish Ballard ER           47.668006   \n6                                           ZOOM+Care           47.662485   \n7              VA Medical Center Emergency Department           47.563790   \n8        Neighborcare Health Georgetown Dental Clinic           47.547542   \n9                           Bayside Family Physicians           47.629135   \n10                          Harborview Medical Center           47.604167   \n11       Neighborcare Health Georgetown Dental Clinic           47.547542   \n12                          Bayside Family Physicians           47.629135   \n13                                 Swedish Ballard ER           47.668006   \n14             VA Medical Center Emergency Department           47.563790   \n15                                           \u062e\u0644\u0627\u064a\u0627 \u0645\u062e           47.705383   \n16             VA Medical Center Emergency Department           47.563790   \n17                               Twans Emergency Room           47.714547   \n18                       Care Clinic at Bartell Drugs           47.663863   \n19                                 Swedish Ballard ER           47.668006   \n20                                 Swedish Ballard ER           47.668006   \n21                                     \u0633\u0631\u0627\u064a\u0627 \u0627\u0644\u0645\u062c\u0627\u0646\u064a\u0646           47.705386   \n22  Mental Health and Addiction Services at Harbor...           47.605644   \n23                                          ZOOM+Care           47.662485   \n24             VA Medical Center Emergency Department           47.563790   \n25                          Harborview Medical Center           47.604167   \n26                                          ZOOM+Care           47.614010   \n27                               Twans Emergency Room           47.714547   \n28             VA Medical Center Emergency Department           47.563790   \n29                       Care Clinic at Bartell Drugs           47.663863   \n30                                          ZOOM+Care           47.614010   \n31                                          ZOOM+Care           47.614010   \n32                                    Jahyun Koo, DDS           47.553189   \n33                          Bayside Family Physicians           47.629135   \n34             VA Medical Center Emergency Department           47.563790   \n35             VA Medical Center Emergency Department           47.563790   \n36  Swedish Medical Center - Cherry Hill Emergency...           47.607349   \n37                          Harborview Medical Center           47.604167   \n38  Swedish Medical Center - Cherry Hill Emergency...           47.607349   \n39             VA Medical Center Emergency Department           47.563790   \n40                                     \u0633\u0631\u0627\u064a\u0627 \u0627\u0644\u0645\u062c\u0627\u0646\u064a\u0646           47.705386   \n41                               Twans Emergency Room           47.714547   \n42       Neighborcare Health Georgetown Dental Clinic           47.547542   \n\n    Emergency Longitude  \n0           -122.310071  \n1           -122.311730  \n2           -122.310071  \n3           -122.346085  \n4           -122.311730  \n5           -122.380696  \n6           -122.312791  \n7           -122.310071  \n8           -122.315861  \n9           -122.341904  \n10          -122.324138  \n11          -122.315861  \n12          -122.341904  \n13          -122.380696  \n14          -122.310071  \n15          -122.333102  \n16          -122.310071  \n17          -122.311730  \n18          -122.296602  \n19          -122.380696  \n20          -122.380696  \n21          -122.333176  \n22          -122.321014  \n23          -122.312791  \n24          -122.310071  \n25          -122.324138  \n26          -122.346085  \n27          -122.311730  \n28          -122.310071  \n29          -122.296602  \n30          -122.346085  \n31          -122.346085  \n32          -122.387503  \n33          -122.341904  \n34          -122.310071  \n35          -122.310071  \n36          -122.311054  \n37          -122.324138  \n38          -122.311054  \n39          -122.310071  \n40          -122.333176  \n41          -122.311730  \n42          -122.315861  "
                    },
                    "execution_count": 47,
                    "metadata": {},
                    "output_type": "execute_result"
                }
            ],
            "source": "nearby_em"
        },
        {
            "cell_type": "code",
            "execution_count": 51,
            "metadata": {},
            "outputs": [
                {
                    "data": {
                        "text/html": "<div>\n<style scoped>\n    .dataframe tbody tr th:only-of-type {\n        vertical-align: middle;\n    }\n\n    .dataframe tbody tr th {\n        vertical-align: top;\n    }\n\n    .dataframe thead th {\n        text-align: right;\n    }\n</style>\n<table border=\"1\" class=\"dataframe\">\n  <thead>\n    <tr style=\"text-align: right;\">\n      <th></th>\n      <th>Emergency Name</th>\n      <th>Accident Latitude</th>\n      <th>Accident Longitude</th>\n      <th>Emergency Latitude</th>\n      <th>Emergency Longitude</th>\n    </tr>\n  </thead>\n  <tbody>\n    <tr>\n      <th>0</th>\n      <td>Bayside Family Physicians</td>\n      <td>47.625325</td>\n      <td>-122.350129</td>\n      <td>47.629135</td>\n      <td>-122.341904</td>\n    </tr>\n    <tr>\n      <th>1</th>\n      <td>Care Clinic at Bartell Drugs</td>\n      <td>47.674849</td>\n      <td>-122.304700</td>\n      <td>47.663863</td>\n      <td>-122.296602</td>\n    </tr>\n    <tr>\n      <th>2</th>\n      <td>Harborview Medical Center</td>\n      <td>47.601939</td>\n      <td>-122.330902</td>\n      <td>47.604167</td>\n      <td>-122.324138</td>\n    </tr>\n    <tr>\n      <th>3</th>\n      <td>Jahyun Koo, DDS</td>\n      <td>47.564720</td>\n      <td>-122.386772</td>\n      <td>47.553189</td>\n      <td>-122.387503</td>\n    </tr>\n    <tr>\n      <th>4</th>\n      <td>Mental Health and Addiction Services at Harbor...</td>\n      <td>47.602188</td>\n      <td>-122.316782</td>\n      <td>47.605644</td>\n      <td>-122.321014</td>\n    </tr>\n    <tr>\n      <th>5</th>\n      <td>Neighborcare Health Georgetown Dental Clinic</td>\n      <td>47.538210</td>\n      <td>-122.334551</td>\n      <td>47.547542</td>\n      <td>-122.315861</td>\n    </tr>\n    <tr>\n      <th>6</th>\n      <td>Swedish Ballard ER</td>\n      <td>47.676441</td>\n      <td>-122.369518</td>\n      <td>47.668006</td>\n      <td>-122.380696</td>\n    </tr>\n    <tr>\n      <th>7</th>\n      <td>Swedish Medical Center - Cherry Hill Emergency...</td>\n      <td>47.604902</td>\n      <td>-122.298584</td>\n      <td>47.607349</td>\n      <td>-122.311054</td>\n    </tr>\n    <tr>\n      <th>8</th>\n      <td>Twans Emergency Room</td>\n      <td>47.712048</td>\n      <td>-122.310784</td>\n      <td>47.714547</td>\n      <td>-122.311730</td>\n    </tr>\n    <tr>\n      <th>9</th>\n      <td>VA Medical Center Emergency Department</td>\n      <td>47.568497</td>\n      <td>-122.311631</td>\n      <td>47.563790</td>\n      <td>-122.310071</td>\n    </tr>\n    <tr>\n      <th>10</th>\n      <td>ZOOM+Care</td>\n      <td>47.634817</td>\n      <td>-122.344749</td>\n      <td>47.630168</td>\n      <td>-122.334987</td>\n    </tr>\n    <tr>\n      <th>11</th>\n      <td>\u062e\u0644\u0627\u064a\u0627 \u0645\u062e</td>\n      <td>47.704996</td>\n      <td>-122.328550</td>\n      <td>47.705383</td>\n      <td>-122.333102</td>\n    </tr>\n    <tr>\n      <th>12</th>\n      <td>\u0633\u0631\u0627\u064a\u0627 \u0627\u0644\u0645\u062c\u0627\u0646\u064a\u0646</td>\n      <td>47.700172</td>\n      <td>-122.344638</td>\n      <td>47.705386</td>\n      <td>-122.333176</td>\n    </tr>\n  </tbody>\n</table>\n</div>",
                        "text/plain": "                                       Emergency Name  Accident Latitude  \\\n0                           Bayside Family Physicians          47.625325   \n1                        Care Clinic at Bartell Drugs          47.674849   \n2                           Harborview Medical Center          47.601939   \n3                                     Jahyun Koo, DDS          47.564720   \n4   Mental Health and Addiction Services at Harbor...          47.602188   \n5        Neighborcare Health Georgetown Dental Clinic          47.538210   \n6                                  Swedish Ballard ER          47.676441   \n7   Swedish Medical Center - Cherry Hill Emergency...          47.604902   \n8                                Twans Emergency Room          47.712048   \n9              VA Medical Center Emergency Department          47.568497   \n10                                          ZOOM+Care          47.634817   \n11                                           \u062e\u0644\u0627\u064a\u0627 \u0645\u062e          47.704996   \n12                                     \u0633\u0631\u0627\u064a\u0627 \u0627\u0644\u0645\u062c\u0627\u0646\u064a\u0646          47.700172   \n\n    Accident Longitude  Emergency Latitude  Emergency Longitude  \n0          -122.350129           47.629135          -122.341904  \n1          -122.304700           47.663863          -122.296602  \n2          -122.330902           47.604167          -122.324138  \n3          -122.386772           47.553189          -122.387503  \n4          -122.316782           47.605644          -122.321014  \n5          -122.334551           47.547542          -122.315861  \n6          -122.369518           47.668006          -122.380696  \n7          -122.298584           47.607349          -122.311054  \n8          -122.310784           47.714547          -122.311730  \n9          -122.311631           47.563790          -122.310071  \n10         -122.344749           47.630168          -122.334987  \n11         -122.328550           47.705383          -122.333102  \n12         -122.344638           47.705386          -122.333176  "
                    },
                    "execution_count": 51,
                    "metadata": {},
                    "output_type": "execute_result"
                }
            ],
            "source": "len(nearby_em)\n\nnearby_em_gruoped = nearby_em.groupby(['Emergency Name']).mean().reset_index()\nnearby_em_gruoped\n\n#List of an nearby Emergency Stations which needs to be prepared for casaulties during the night and bad weather conditions"
        },
        {
            "cell_type": "code",
            "execution_count": 55,
            "metadata": {
                "scrolled": true
            },
            "outputs": [
                {
                    "data": {
                        "text/html": "<div style=\"width:100%;\"><div style=\"position:relative;width:100%;height:0;padding-bottom:60%;\"><span style=\"color:#565656\">Make this Notebook Trusted to load map: File -> Trust Notebook</span><iframe src=\"about:blank\" style=\"position:absolute;width:100%;height:100%;left:0;top:0;border:none !important;\" data-html=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 onload=\"this.contentDocument.open();this.contentDocument.write(atob(this.getAttribute('data-html')));this.contentDocument.close();\" allowfullscreen webkitallowfullscreen mozallowfullscreen></iframe></div></div>",
                        "text/plain": "<folium.folium.Map at 0x7f9a4be02e10>"
                    },
                    "execution_count": 55,
                    "metadata": {},
                    "output_type": "execute_result"
                }
            ],
            "source": "\nlatitude_x = 47.54\nlongitude_y = -122.32\nmap_Seattle = folium.Map(location=[latitude_x, longitude_y], zoom_start=10)\n\nfor lat, lng in zip(nearby_em_gruoped['Emergency Latitude'], nearby_em_gruoped['Emergency Longitude']):\n    folium.CircleMarker(\n        [lat, lng],\n        radius=25,\n        popup=None,\n        color='green',\n        fill=True,\n        fill_color='#3186cc',\n        fill_opacity=0.7,\n        parse_html=False).add_to(map_Seattle)\n\nmap_Seattle"
        },
        {
            "cell_type": "code",
            "execution_count": 56,
            "metadata": {},
            "outputs": [],
            "source": "# The final number of Police Stations has been limited to 100 due to the limitations in calling the Foursquare API\ndef getNearbyPoliceStations(radius=2500, searchType='police'):\n    police_list=[]\n    tst_loop_counter = 0;\n    for lat, lng in zip(df_bad_weather['Y'], df_bad_weather['X']):\n        if tst_loop_counter >= 100:\n            break\n        url = 'https://api.foursquare.com/v2/venues/explore?&client_id={}&client_secret={}&v={}&ll={},{}&query={}&radius={}&limit={}'.format(\n            CLIENT_ID, \n            CLIENT_SECRET, \n            VERSION, \n            lat, \n            lng,\n            searchType,\n            radius, \n            LIMIT)\n            \n        # making GET request\n        police_results = requests.get(url).json()[\"response\"]['groups'][0]['items']\n        \n        # return only relevant information for each nearby police station\n        police_list.append([(\n            lat, \n            lng, \n            e['venue']['name'], \n            e['venue']['location']['lat'], \n            e['venue']['location']['lng']) for e in police_results])\n        tst_loop_counter = tst_loop_counter + 1\n\n    nearby_plc = pd.DataFrame([item for plc_list in police_list for item in plc_list])\n    nearby_plc.columns = ['Accident Latitude', \n                  'Accident Longitude', \n                  'PoliceS Name', \n                  'PoliceS Latitude', \n                  'PoliceS Longitude']\n    \n    return(nearby_plc)"
        },
        {
            "cell_type": "code",
            "execution_count": 57,
            "metadata": {},
            "outputs": [],
            "source": "# Getting the nearby police stations which needs to be prepared in case of night and bad weather conditions\nnearby_plc_night_bw = getNearbyPoliceStations()"
        },
        {
            "cell_type": "code",
            "execution_count": 59,
            "metadata": {},
            "outputs": [
                {
                    "data": {
                        "text/html": "<div>\n<style scoped>\n    .dataframe tbody tr th:only-of-type {\n        vertical-align: middle;\n    }\n\n    .dataframe tbody tr th {\n        vertical-align: top;\n    }\n\n    .dataframe thead th {\n        text-align: right;\n    }\n</style>\n<table border=\"1\" class=\"dataframe\">\n  <thead>\n    <tr style=\"text-align: right;\">\n      <th></th>\n      <th>PoliceS Name</th>\n      <th>Accident Latitude</th>\n      <th>Accident Longitude</th>\n      <th>PoliceS Latitude</th>\n      <th>PoliceS Longitude</th>\n    </tr>\n  </thead>\n  <tbody>\n    <tr>\n      <th>0</th>\n      <td>312 Seattle Outpost</td>\n      <td>47.623454</td>\n      <td>-122.364335</td>\n      <td>47.613186</td>\n      <td>-122.346592</td>\n    </tr>\n    <tr>\n      <th>1</th>\n      <td>King County Sheriff\u2019s - PMU</td>\n      <td>47.561498</td>\n      <td>-122.322691</td>\n      <td>47.561680</td>\n      <td>-122.324762</td>\n    </tr>\n    <tr>\n      <th>2</th>\n      <td>King County Sherriff's Office</td>\n      <td>47.525479</td>\n      <td>-122.273719</td>\n      <td>47.529816</td>\n      <td>-122.286371</td>\n    </tr>\n    <tr>\n      <th>3</th>\n      <td>Magnum Storage</td>\n      <td>47.673646</td>\n      <td>-122.376249</td>\n      <td>47.667524</td>\n      <td>-122.385738</td>\n    </tr>\n    <tr>\n      <th>4</th>\n      <td>NOS Storage</td>\n      <td>47.529358</td>\n      <td>-122.334256</td>\n      <td>47.530923</td>\n      <td>-122.334151</td>\n    </tr>\n    <tr>\n      <th>5</th>\n      <td>Northgate Self Storage</td>\n      <td>47.710960</td>\n      <td>-122.308553</td>\n      <td>47.707788</td>\n      <td>-122.318463</td>\n    </tr>\n    <tr>\n      <th>6</th>\n      <td>Outside Storage</td>\n      <td>47.654152</td>\n      <td>-122.356039</td>\n      <td>47.655857</td>\n      <td>-122.375920</td>\n    </tr>\n    <tr>\n      <th>7</th>\n      <td>Police Station Building C</td>\n      <td>47.584921</td>\n      <td>-122.308566</td>\n      <td>47.582985</td>\n      <td>-122.323235</td>\n    </tr>\n    <tr>\n      <th>8</th>\n      <td>Seattle Cold Storage</td>\n      <td>47.541576</td>\n      <td>-122.335407</td>\n      <td>47.543071</td>\n      <td>-122.329627</td>\n    </tr>\n    <tr>\n      <th>9</th>\n      <td>Seattle Police Athletic Association</td>\n      <td>47.509692</td>\n      <td>-122.260338</td>\n      <td>47.503488</td>\n      <td>-122.286961</td>\n    </tr>\n    <tr>\n      <th>10</th>\n      <td>Seattle Police Department - Southwest Precinct</td>\n      <td>47.527259</td>\n      <td>-122.377352</td>\n      <td>47.535877</td>\n      <td>-122.362096</td>\n    </tr>\n    <tr>\n      <th>11</th>\n      <td>Seattle Police Department -West Precinct</td>\n      <td>47.617570</td>\n      <td>-122.342196</td>\n      <td>47.616223</td>\n      <td>-122.336699</td>\n    </tr>\n    <tr>\n      <th>12</th>\n      <td>Seattle Police Department East Precinct</td>\n      <td>47.611612</td>\n      <td>-122.307947</td>\n      <td>47.615196</td>\n      <td>-122.316797</td>\n    </tr>\n    <tr>\n      <th>13</th>\n      <td>Seattle Police Department South Precinct</td>\n      <td>47.546927</td>\n      <td>-122.286597</td>\n      <td>47.538366</td>\n      <td>-122.293349</td>\n    </tr>\n    <tr>\n      <th>14</th>\n      <td>Seattle Police Dept North Pct.</td>\n      <td>47.705467</td>\n      <td>-122.342038</td>\n      <td>47.703178</td>\n      <td>-122.334709</td>\n    </tr>\n    <tr>\n      <th>15</th>\n      <td>Seattle Police Headquarters</td>\n      <td>47.602739</td>\n      <td>-122.329254</td>\n      <td>47.604396</td>\n      <td>-122.329953</td>\n    </tr>\n    <tr>\n      <th>16</th>\n      <td>Seattle Police Officers Guild</td>\n      <td>47.579809</td>\n      <td>-122.329056</td>\n      <td>47.576191</td>\n      <td>-122.329567</td>\n    </tr>\n    <tr>\n      <th>17</th>\n      <td>Seattle Police Southwest Precinct</td>\n      <td>47.566245</td>\n      <td>-122.387222</td>\n      <td>47.560390</td>\n      <td>-122.376460</td>\n    </tr>\n    <tr>\n      <th>18</th>\n      <td>U.S. Customs and Border Protection</td>\n      <td>47.546981</td>\n      <td>-122.307937</td>\n      <td>47.537197</td>\n      <td>-122.303024</td>\n    </tr>\n    <tr>\n      <th>19</th>\n      <td>USCBP</td>\n      <td>47.571421</td>\n      <td>-122.328674</td>\n      <td>47.571302</td>\n      <td>-122.333439</td>\n    </tr>\n    <tr>\n      <th>20</th>\n      <td>UW Police Station</td>\n      <td>47.662636</td>\n      <td>-122.325019</td>\n      <td>47.652274</td>\n      <td>-122.316557</td>\n    </tr>\n    <tr>\n      <th>21</th>\n      <td>Washington State Patrol</td>\n      <td>47.641355</td>\n      <td>-122.320059</td>\n      <td>47.643001</td>\n      <td>-122.321325</td>\n    </tr>\n    <tr>\n      <th>22</th>\n      <td>Washington State Patrol Seattle Crime Lab</td>\n      <td>47.576848</td>\n      <td>-122.300197</td>\n      <td>47.582320</td>\n      <td>-122.322991</td>\n    </tr>\n  </tbody>\n</table>\n</div>",
                        "text/plain": "                                      PoliceS Name  Accident Latitude  \\\n0                              312 Seattle Outpost          47.623454   \n1                      King County Sheriff\u2019s - PMU          47.561498   \n2                    King County Sherriff's Office          47.525479   \n3                                   Magnum Storage          47.673646   \n4                                      NOS Storage          47.529358   \n5                           Northgate Self Storage          47.710960   \n6                                  Outside Storage          47.654152   \n7                        Police Station Building C          47.584921   \n8                             Seattle Cold Storage          47.541576   \n9              Seattle Police Athletic Association          47.509692   \n10  Seattle Police Department - Southwest Precinct          47.527259   \n11        Seattle Police Department -West Precinct          47.617570   \n12         Seattle Police Department East Precinct          47.611612   \n13        Seattle Police Department South Precinct          47.546927   \n14                  Seattle Police Dept North Pct.          47.705467   \n15                     Seattle Police Headquarters          47.602739   \n16                   Seattle Police Officers Guild          47.579809   \n17               Seattle Police Southwest Precinct          47.566245   \n18              U.S. Customs and Border Protection          47.546981   \n19                                           USCBP          47.571421   \n20                               UW Police Station          47.662636   \n21                         Washington State Patrol          47.641355   \n22       Washington State Patrol Seattle Crime Lab          47.576848   \n\n    Accident Longitude  PoliceS Latitude  PoliceS Longitude  \n0          -122.364335         47.613186        -122.346592  \n1          -122.322691         47.561680        -122.324762  \n2          -122.273719         47.529816        -122.286371  \n3          -122.376249         47.667524        -122.385738  \n4          -122.334256         47.530923        -122.334151  \n5          -122.308553         47.707788        -122.318463  \n6          -122.356039         47.655857        -122.375920  \n7          -122.308566         47.582985        -122.323235  \n8          -122.335407         47.543071        -122.329627  \n9          -122.260338         47.503488        -122.286961  \n10         -122.377352         47.535877        -122.362096  \n11         -122.342196         47.616223        -122.336699  \n12         -122.307947         47.615196        -122.316797  \n13         -122.286597         47.538366        -122.293349  \n14         -122.342038         47.703178        -122.334709  \n15         -122.329254         47.604396        -122.329953  \n16         -122.329056         47.576191        -122.329567  \n17         -122.387222         47.560390        -122.376460  \n18         -122.307937         47.537197        -122.303024  \n19         -122.328674         47.571302        -122.333439  \n20         -122.325019         47.652274        -122.316557  \n21         -122.320059         47.643001        -122.321325  \n22         -122.300197         47.582320        -122.322991  "
                    },
                    "execution_count": 59,
                    "metadata": {},
                    "output_type": "execute_result"
                }
            ],
            "source": "len(nearby_plc_night_bw)\n\nnearby_plc_night_bw_gruoped = nearby_plc_night_bw.groupby(['PoliceS Name']).mean().reset_index()\nnearby_plc_night_bw_gruoped\n\n#List of an nearby Police Stations which needs to be prepared for casaulties during the night and bad weather conditions"
        },
        {
            "cell_type": "code",
            "execution_count": null,
            "metadata": {},
            "outputs": [],
            "source": "latitude_x = 47.54\nlongitude_y = -122.32\nmap_Seattle = folium.Map(location=[latitude_x, longitude_y], zoom_start=10)\n\nfor lat, lng in zip(nearby_plc_night_bw_gruoped['PoliceS Latitude'], nearby_plc_night_bw_gruoped['PoliceS Longitude']):\n    folium.CircleMarker(\n        [lat, lng],\n        radius=25,\n        popup=None,\n        color='blue',\n        fill=True,\n        fill_color='#3186cc',\n        fill_opacity=0.7,\n        parse_html=False).add_to(map_Seattle)\n\nmap_Seattle"
        }
    ],
    "metadata": {
        "kernelspec": {
            "display_name": "Python 3.6",
            "language": "python",
            "name": "python3"
        },
        "language_info": {
            "codemirror_mode": {
                "name": "ipython",
                "version": 3
            },
            "file_extension": ".py",
            "mimetype": "text/x-python",
            "name": "python",
            "nbconvert_exporter": "python",
            "pygments_lexer": "ipython3",
            "version": "3.6.9"
        }
    },
    "nbformat": 4,
    "nbformat_minor": 1
}