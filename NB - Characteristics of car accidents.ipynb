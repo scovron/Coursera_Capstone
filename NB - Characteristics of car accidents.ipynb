{
    "cells": [
        {
            "metadata": {
                "collapsed": true
            },
            "cell_type": "markdown",
            "source": "# Coursera Capstone - Characteristics of car accidents and their impact on police, ambulance and fire brigades\n\n## Table of contents:\n\n1. Introduction Section\n    - Scenario and background\n    - Problem to be solved\n    - Recipients of the report\n2. Data Section\n    - Data required to resolve the problem and how the data will be used to solve the problem\n3. Methodology Section\n4. Result Section\n5. Discussion Section\n6. Conslusion Section\n\n\n## 1. Introduction Section\n\n### Scenario and background\nObserving the statistics of car accidents in Seatlle, I came to the conclusion that it is possible to prepare services such as the police, fire brigade or ambulance in advance for serious cases of road accidents involving a large number of people and which may result from weather conditions in specific places of Seattle.\n\n### Problem to be solved\nThe challenge to be solved is to properly prepare and inform the police, fire brigade and ambulance in advance about the possibility of very serious road accidents depending on the prevailing road conditions in specific places. Therefore, I want to find accidents with the following assumptions:\n- Severity is a minimum of 2\n- More than 4 are injured, including pedestrians and cyclists\n- Depending on the weather condition and road condition\n- Depending on the time of day\n- Cases resulting from the use of alcohol and other intoxicants are rejected as not resulting directly from weather factors.\n\n### Recipients of the report\nI believe that this is a suitable project for a major city security center in Europe, the United States or Asia, as the approach and methodology used here will help prepare services such as the police, fire brigade or hospitals in advance for emergencies (e.g. severe road accidents) from weather conditions.\n\n## 2. Data Section\n\n### Data required to resolve the problem and how the data will be used to solve the problem\nThe data will be used as follows: First, I sort out the data for which the UNDERINFL parameter (meaning under the influence of intoxicants) is empty or equal to 1 or Y. Thanks to this, I will separate the cases not directly related to the weather conditions, which is based on my assumptions. Then I will sort the data by the SEVERITYCODE attribute for which the minimum value is 2 which will give me only the cases with injuries.\nIn the next step, I will sort by the number of people participating in the event (PERSONCOUNT) for a minimum value of 4 people and then group them depending on weather conditions (WEATHER), road condition (ROADCOND) and time of day (LIGHTCOND). Finally, I will use the location data (X and Y) to plot the most frequent crash sites on the Seatlle map so the services will know exactly the accidents can happen on particular weather and day conditions.\n"
        },
        {
            "metadata": {},
            "cell_type": "code",
            "source": "",
            "execution_count": null,
            "outputs": []
        }
    ],
    "metadata": {
        "kernelspec": {
            "name": "python3",
            "display_name": "Python 3.6",
            "language": "python"
        },
        "language_info": {
            "name": "python",
            "version": "3.6.9",
            "mimetype": "text/x-python",
            "codemirror_mode": {
                "name": "ipython",
                "version": 3
            },
            "pygments_lexer": "ipython3",
            "nbconvert_exporter": "python",
            "file_extension": ".py"
        }
    },
    "nbformat": 4,
    "nbformat_minor": 1
}