{
    "cells": [
        {
            "metadata": {
                "collapsed": true
            },
            "cell_type": "markdown",
            "source": "# Coursera Capstone - Characteristics of car accidents and their impact on police, ambulance and fire brigades\n\n## Table of contents:\n\n1. Introduction Section\n    - Scenario and background\n    - Problem to be solved\n    - Recipients of the report\n2. Data Section\n    - Data required to resolve the problem\n    - How the data will be used to solve the problem\n    - Mapping of the data\n3. Methodology Section\n4. Result Section\n5. Discussion Section\n6. Conslusion Section\n\n"
        }
    ],
    "metadata": {
        "kernelspec": {
            "name": "python3",
            "display_name": "Python 3.6",
            "language": "python"
        },
        "language_info": {
            "name": "python",
            "version": "3.6.9",
            "mimetype": "text/x-python",
            "codemirror_mode": {
                "name": "ipython",
                "version": 3
            },
            "pygments_lexer": "ipython3",
            "nbconvert_exporter": "python",
            "file_extension": ".py"
        }
    },
    "nbformat": 4,
    "nbformat_minor": 1
}